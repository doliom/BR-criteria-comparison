{
 "cells": [
  {
   "cell_type": "code",
   "execution_count": 251,
   "metadata": {},
   "outputs": [],
   "source": [
    "import numpy as np\n",
    "from tabulate import tabulate"
   ]
  },
  {
   "cell_type": "code",
   "execution_count": 252,
   "metadata": {},
   "outputs": [
    {
     "data": {
      "text/plain": [
       "array([[10,  3, 10, 10,  4,  3,  4,  1,  8,  3,  8,  4],\n",
       "       [ 8,  3,  8,  7,  2,  3,  4,  1,  8,  3,  8,  4],\n",
       "       [10,  8, 10, 10,  4,  9,  4,  3,  8,  4,  8,  7],\n",
       "       [10,  8, 10, 10,  5,  9,  8,  4,  8,  5,  8,  7],\n",
       "       [ 5,  3,  4,  6,  2,  3,  4,  1,  1,  3,  1,  4],\n",
       "       [ 3,  2,  4,  5,  2,  3,  4,  1,  1,  2,  1,  4],\n",
       "       [10,  8, 10, 10,  7,  9,  4,  8,  8,  5,  8,  7],\n",
       "       [10,  8, 10, 10,  7,  9,  4,  8,  8,  7,  8,  7],\n",
       "       [10,  8, 10, 10,  7,  9,  9,  8, 10, 10,  8,  7],\n",
       "       [ 1,  4,  2,  5,  7,  8,  9,  8,  1,  1,  2,  7],\n",
       "       [ 1,  2,  2,  5,  2,  3,  4,  1,  1,  1,  1,  4],\n",
       "       [ 1,  2,  2,  1,  2,  3,  4,  1,  1,  1,  1,  4],\n",
       "       [10,  8, 10, 10,  7,  9,  9,  8, 10, 10,  8, 10],\n",
       "       [10,  9, 10, 10,  7,  9,  9,  8, 10, 10,  8, 10],\n",
       "       [ 2,  7, 10,  1,  7,  1,  4,  8,  5,  7,  6,  7],\n",
       "       [ 2,  7, 10,  1,  7,  3,  4,  8,  5,  9,  6,  8],\n",
       "       [10,  9, 10, 10, 10,  4,  4,  8,  8,  9,  8,  8],\n",
       "       [10,  9, 10, 10, 10,  4,  9,  8,  8,  9,  8,  8],\n",
       "       [10, 10, 10, 10, 10,  4,  9,  8,  8,  9,  8,  9],\n",
       "       [ 7, 10,  6,  2,  5,  4,  2,  8,  6,  4,  4,  1]])"
      ]
     },
     "execution_count": 252,
     "metadata": {},
     "output_type": "execute_result"
    }
   ],
   "source": [
    "criteria = np.loadtxt('task_matrix.txt', delimiter=' ', dtype=int)\n",
    "criteria"
   ]
  },
  {
   "cell_type": "markdown",
   "metadata": {},
   "source": [
    "#### Формуємо множину веторів сигма."
   ]
  },
  {
   "cell_type": "code",
   "execution_count": 253,
   "metadata": {},
   "outputs": [],
   "source": [
    "def make_delta_vector(criteria, index_row): #утворення множини векторів дельта, щоб потім використати для знаходження сигм\n",
    "    deltas = []\n",
    "    for i in range(criteria.shape[0]):\n",
    "        deltas.append(criteria[index_row]-criteria[i])\n",
    "    deltas = np.array(deltas)\n",
    "    return deltas\n",
    "    \n",
    "def sigma_vectors(criteria):\n",
    "    sigma_vect = []\n",
    "    \n",
    "    for i in range(criteria.shape[0]):\n",
    "        delta = make_delta_vector(criteria, i)\n",
    "        \n",
    "        delta_positive = np.where(delta > 0, 1, 0)\n",
    "        delta_negative = np.where(delta < 0, -1, 0)\n",
    "\n",
    "        sigma = delta_positive+delta_negative\n",
    "        sigma_vect.append(sigma)\n",
    "        \n",
    "    sigma_vect = np.array(sigma_vect)\n",
    "    return sigma_vect"
   ]
  },
  {
   "cell_type": "code",
   "execution_count": 254,
   "metadata": {
    "scrolled": true
   },
   "outputs": [
    {
     "data": {
      "text/plain": [
       "array([[[ 0,  0,  0, ...,  0,  0,  0],\n",
       "        [ 1,  0,  1, ...,  0,  0,  0],\n",
       "        [ 0, -1,  0, ..., -1,  0, -1],\n",
       "        ...,\n",
       "        [ 0, -1,  0, ..., -1,  0, -1],\n",
       "        [ 0, -1,  0, ..., -1,  0, -1],\n",
       "        [ 1, -1,  1, ..., -1,  1,  1]],\n",
       "\n",
       "       [[-1,  0, -1, ...,  0,  0,  0],\n",
       "        [ 0,  0,  0, ...,  0,  0,  0],\n",
       "        [-1, -1, -1, ..., -1,  0, -1],\n",
       "        ...,\n",
       "        [-1, -1, -1, ..., -1,  0, -1],\n",
       "        [-1, -1, -1, ..., -1,  0, -1],\n",
       "        [ 1, -1,  1, ..., -1,  1,  1]],\n",
       "\n",
       "       [[ 0,  1,  0, ...,  1,  0,  1],\n",
       "        [ 1,  1,  1, ...,  1,  0,  1],\n",
       "        [ 0,  0,  0, ...,  0,  0,  0],\n",
       "        ...,\n",
       "        [ 0, -1,  0, ..., -1,  0, -1],\n",
       "        [ 0, -1,  0, ..., -1,  0, -1],\n",
       "        [ 1, -1,  1, ...,  0,  1,  1]],\n",
       "\n",
       "       ...,\n",
       "\n",
       "       [[ 0,  1,  0, ...,  1,  0,  1],\n",
       "        [ 1,  1,  1, ...,  1,  0,  1],\n",
       "        [ 0,  1,  0, ...,  1,  0,  1],\n",
       "        ...,\n",
       "        [ 0,  0,  0, ...,  0,  0,  0],\n",
       "        [ 0, -1,  0, ...,  0,  0, -1],\n",
       "        [ 1, -1,  1, ...,  1,  1,  1]],\n",
       "\n",
       "       [[ 0,  1,  0, ...,  1,  0,  1],\n",
       "        [ 1,  1,  1, ...,  1,  0,  1],\n",
       "        [ 0,  1,  0, ...,  1,  0,  1],\n",
       "        ...,\n",
       "        [ 0,  1,  0, ...,  0,  0,  1],\n",
       "        [ 0,  0,  0, ...,  0,  0,  0],\n",
       "        [ 1,  0,  1, ...,  1,  1,  1]],\n",
       "\n",
       "       [[-1,  1, -1, ...,  1, -1, -1],\n",
       "        [-1,  1, -1, ...,  1, -1, -1],\n",
       "        [-1,  1, -1, ...,  0, -1, -1],\n",
       "        ...,\n",
       "        [-1,  1, -1, ..., -1, -1, -1],\n",
       "        [-1,  0, -1, ..., -1, -1, -1],\n",
       "        [ 0,  0,  0, ...,  0,  0,  0]]])"
      ]
     },
     "execution_count": 254,
     "metadata": {},
     "output_type": "execute_result"
    }
   ],
   "source": [
    "sigma_vect = sigma_vectors(criteria)\n",
    "sigma_vect"
   ]
  },
  {
   "cell_type": "markdown",
   "metadata": {},
   "source": [
    "#### Реалізація функцій для для оптимізації за домінуванням і блокуванням"
   ]
  },
  {
   "cell_type": "code",
   "execution_count": 255,
   "metadata": {},
   "outputs": [],
   "source": [
    "def I(R): #формуємо симетричну частину\n",
    "    return (R == R.T)*R\n",
    "\n",
    "def P(R):#формуємо асиметричну частину\n",
    "    return R-I(R)\n",
    "\n",
    "def N(R):#формуємо відношення непорівнюваності\n",
    "    return (R == R.T)-I(R)\n",
    "\n",
    "def check_asymmetry(R):#перевірка на асиметричність. True - якщо асиметричне\n",
    "    return not I(R).any()\n",
    "\n",
    "#Оптимізація за домінуванням\n",
    "def dom_opt(R, m):\n",
    "    opt_res = {\n",
    "        'l_p': [],\n",
    "        'l_r': [],\n",
    "        'strong_l_r': []}\n",
    "    \n",
    "    if check_asymmetry(R):\n",
    "        opt_res['l_p'] = largest_p(R, m)\n",
    "    else:\n",
    "        opt_res['l_r'], opt_res['strong_l_r'] = largest_r(R, m)\n",
    "    return opt_res\n",
    "\n",
    "def largest_p(R, m):#найбільші по P\n",
    "    for row, i in zip(R, range(m)):\n",
    "        if row.sum()==m-1 and row[i]==0:\n",
    "            return [i+1] #бо одночасно 2 таких елементи існувати не може\n",
    "    return []\n",
    "\n",
    "def largest_r(R, m):#найбільші та строго найбільші по R \n",
    "    lr, strong_lr = [], []\n",
    "    for row, i in zip(R, range(m)):\n",
    "        if row.sum()==m:\n",
    "            lr.append(i+1)\n",
    "            if R.T[i].sum()==1:\n",
    "                strong_lr.append(i+1)\n",
    "    return lr, strong_lr\n",
    "            \n",
    "#Оптимізація за блокуванням\n",
    "def block_opt(R, m):\n",
    "    opt_res = {\n",
    "        'm_p': [],\n",
    "        'm_r': [],\n",
    "        'strong_m_r': []}\n",
    "        \n",
    "    if check_asymmetry(R):\n",
    "        opt_res['m_p'] = max_p(R, m)\n",
    "    else:\n",
    "        opt_res['m_r'], opt_res['strong_m_r'] = max_r(R, m)\n",
    "    return opt_res\n",
    "\n",
    "def max_p(R, m):#максимальні по P\n",
    "    mp = []\n",
    "    for row, i in zip(R.T, range(m)):\n",
    "        if not row.any():\n",
    "            mp.append(i+1)\n",
    "    return mp\n",
    "\n",
    "def max_r(R, m):#максимальні та строго максимальні по R\n",
    "    mr, strong_mr = [], []\n",
    "    for row, i in zip(P(R).T, range(m)):\n",
    "        if not row.any():\n",
    "            mr.append(i+1)\n",
    "            if R.T[i].sum()==0 or (R.T[i].sum()==1 and R.T[i][i] == 1):\n",
    "                strong_mr.append(i+1)\n",
    "    return mr, strong_mr\n",
    "\n",
    "def optimization(R):\n",
    "    m = R.shape[0]\n",
    "    headers = [\"Множини альтернатив\",\"Оптимальний розв'язок\"]\n",
    "    \n",
    "    solution = dom_opt(R, m)\n",
    "    if len(solution['l_p']) or len(solution['l_r']) or len(solution['strong_l_r']):\n",
    "        if len(solution['l_p']) == 0:\n",
    "            del solution['l_p']\n",
    "        else:\n",
    "            del solution['l_r']\n",
    "            del solution['strong_l_r']\n",
    "        print(tabulate(solution.items(), headers = headers))\n",
    "    else:\n",
    "        solution = block_opt(R, m)\n",
    "        if len(solution['m_p']) == 0:\n",
    "            del solution['m_p']\n",
    "        else:\n",
    "            del solution['m_r']\n",
    "            del solution['strong_m_r']\n",
    "        print(tabulate(solution.items(), headers = headers))"
   ]
  },
  {
   "cell_type": "markdown",
   "metadata": {},
   "source": [
    "#### Відношення Парето"
   ]
  },
  {
   "cell_type": "code",
   "execution_count": 272,
   "metadata": {},
   "outputs": [],
   "source": [
    "def pareto(sigma_vect):\n",
    "    m = sigma_vect.shape[0] #кількість x\n",
    "    solution = np.zeros((m, m), dtype=int)\n",
    "    \n",
    "    for row in range(m):\n",
    "        for col in range(m):\n",
    "            if (sigma_vect[row][col] >= 0).all():\n",
    "                solution[row][col] = 1\n",
    "    \n",
    "    return solution"
   ]
  },
  {
   "cell_type": "code",
   "execution_count": 273,
   "metadata": {
    "scrolled": true
   },
   "outputs": [
    {
     "name": "stdout",
     "output_type": "stream",
     "text": [
      "Відношення Парето\n"
     ]
    },
    {
     "data": {
      "text/plain": [
       "array([[1, 1, 0, 0, 1, 1, 0, 0, 0, 0, 1, 1, 0, 0, 0, 0, 0, 0, 0, 0],\n",
       "       [0, 1, 0, 0, 1, 1, 0, 0, 0, 0, 1, 1, 0, 0, 0, 0, 0, 0, 0, 0],\n",
       "       [1, 1, 1, 0, 1, 1, 0, 0, 0, 0, 1, 1, 0, 0, 0, 0, 0, 0, 0, 0],\n",
       "       [1, 1, 1, 1, 1, 1, 0, 0, 0, 0, 1, 1, 0, 0, 0, 0, 0, 0, 0, 0],\n",
       "       [0, 0, 0, 0, 1, 1, 0, 0, 0, 0, 1, 1, 0, 0, 0, 0, 0, 0, 0, 0],\n",
       "       [0, 0, 0, 0, 0, 1, 0, 0, 0, 0, 1, 1, 0, 0, 0, 0, 0, 0, 0, 0],\n",
       "       [1, 1, 1, 0, 1, 1, 1, 0, 0, 0, 1, 1, 0, 0, 0, 0, 0, 0, 0, 0],\n",
       "       [1, 1, 1, 0, 1, 1, 1, 1, 0, 0, 1, 1, 0, 0, 1, 0, 0, 0, 0, 0],\n",
       "       [1, 1, 1, 1, 1, 1, 1, 1, 1, 1, 1, 1, 0, 0, 1, 0, 0, 0, 0, 0],\n",
       "       [0, 0, 0, 0, 0, 0, 0, 0, 0, 1, 1, 1, 0, 0, 0, 0, 0, 0, 0, 0],\n",
       "       [0, 0, 0, 0, 0, 0, 0, 0, 0, 0, 1, 1, 0, 0, 0, 0, 0, 0, 0, 0],\n",
       "       [0, 0, 0, 0, 0, 0, 0, 0, 0, 0, 0, 1, 0, 0, 0, 0, 0, 0, 0, 0],\n",
       "       [1, 1, 1, 1, 1, 1, 1, 1, 1, 1, 1, 1, 1, 0, 1, 1, 0, 0, 0, 0],\n",
       "       [1, 1, 1, 1, 1, 1, 1, 1, 1, 1, 1, 1, 1, 1, 1, 1, 0, 0, 0, 0],\n",
       "       [0, 0, 0, 0, 0, 0, 0, 0, 0, 0, 0, 0, 0, 0, 1, 0, 0, 0, 0, 0],\n",
       "       [0, 0, 0, 0, 0, 0, 0, 0, 0, 0, 0, 1, 0, 0, 1, 1, 0, 0, 0, 0],\n",
       "       [1, 1, 0, 0, 1, 1, 0, 0, 0, 0, 1, 1, 0, 0, 1, 1, 1, 0, 0, 0],\n",
       "       [1, 1, 0, 0, 1, 1, 0, 0, 0, 0, 1, 1, 0, 0, 1, 1, 1, 1, 0, 0],\n",
       "       [1, 1, 0, 0, 1, 1, 0, 0, 0, 0, 1, 1, 0, 0, 1, 1, 1, 1, 1, 1],\n",
       "       [0, 0, 0, 0, 0, 0, 0, 0, 0, 0, 0, 0, 0, 0, 0, 0, 0, 0, 0, 1]])"
      ]
     },
     "execution_count": 273,
     "metadata": {},
     "output_type": "execute_result"
    }
   ],
   "source": [
    "pareto_mtrx = pareto(sigma_vect)\n",
    "print(\"Відношення Парето\")\n",
    "pareto_mtrx"
   ]
  },
  {
   "cell_type": "code",
   "execution_count": 282,
   "metadata": {
    "scrolled": true
   },
   "outputs": [
    {
     "name": "stdout",
     "output_type": "stream",
     "text": [
      "ВІДНОШЕННЯ ПАРЕТО\n",
      "____________________________________\n",
      "Множини альтернатив    Оптимальний розв'язок\n",
      "---------------------  -----------------------\n",
      "m_r                    [14, 19]\n",
      "strong_m_r             [14, 19]\n"
     ]
    }
   ],
   "source": [
    "print(\"ВІДНОШЕННЯ ПАРЕТО\\n____________________________________\")\n",
    "optimization(pareto_mtrx)"
   ]
  },
  {
   "cell_type": "markdown",
   "metadata": {},
   "source": [
    "#### Мажоритарне відношення"
   ]
  },
  {
   "cell_type": "code",
   "execution_count": 276,
   "metadata": {},
   "outputs": [],
   "source": [
    "def majority(sigma_vect):\n",
    "    m = sigma_vect.shape[0] #кількість x\n",
    "    sigma_sum = np.array([[sigma_vect[i][j].sum() for j in range(m)] for i in range(m)])\n",
    "    Pm = np.where(sigma_sum > 0, 1, 0)\n",
    "    return Pm"
   ]
  },
  {
   "cell_type": "code",
   "execution_count": 278,
   "metadata": {
    "scrolled": false
   },
   "outputs": [
    {
     "data": {
      "text/plain": [
       "array([[0, 1, 0, 0, 1, 1, 0, 0, 0, 0, 1, 1, 0, 0, 0, 0, 0, 0, 0, 1],\n",
       "       [0, 0, 0, 0, 1, 1, 0, 0, 0, 0, 1, 1, 0, 0, 0, 0, 0, 0, 0, 1],\n",
       "       [1, 1, 0, 0, 1, 1, 0, 0, 0, 1, 1, 1, 0, 0, 1, 1, 0, 0, 0, 1],\n",
       "       [1, 1, 1, 0, 1, 1, 0, 0, 0, 1, 1, 1, 0, 0, 1, 1, 0, 0, 0, 1],\n",
       "       [0, 0, 0, 0, 0, 1, 0, 0, 0, 0, 1, 1, 0, 0, 0, 0, 0, 0, 0, 0],\n",
       "       [0, 0, 0, 0, 0, 0, 0, 0, 0, 0, 1, 1, 0, 0, 0, 0, 0, 0, 0, 0],\n",
       "       [1, 1, 1, 1, 1, 1, 0, 0, 0, 1, 1, 1, 0, 0, 1, 1, 0, 0, 0, 1],\n",
       "       [1, 1, 1, 1, 1, 1, 1, 0, 0, 1, 1, 1, 0, 0, 1, 1, 0, 0, 0, 1],\n",
       "       [1, 1, 1, 1, 1, 1, 1, 1, 0, 1, 1, 1, 0, 0, 1, 1, 1, 0, 0, 1],\n",
       "       [0, 0, 0, 0, 1, 1, 0, 0, 0, 0, 1, 1, 0, 0, 0, 0, 0, 0, 0, 0],\n",
       "       [0, 0, 0, 0, 0, 0, 0, 0, 0, 0, 0, 1, 0, 0, 0, 0, 0, 0, 0, 0],\n",
       "       [0, 0, 0, 0, 0, 0, 0, 0, 0, 0, 0, 0, 0, 0, 0, 0, 0, 0, 0, 0],\n",
       "       [1, 1, 1, 1, 1, 1, 1, 1, 1, 1, 1, 1, 0, 0, 1, 1, 1, 1, 1, 1],\n",
       "       [1, 1, 1, 1, 1, 1, 1, 1, 1, 1, 1, 1, 1, 0, 1, 1, 1, 1, 1, 1],\n",
       "       [0, 1, 0, 0, 1, 1, 0, 0, 0, 1, 1, 1, 0, 0, 0, 0, 0, 0, 0, 1],\n",
       "       [1, 1, 0, 0, 1, 1, 0, 0, 0, 1, 1, 1, 0, 0, 1, 0, 0, 0, 0, 1],\n",
       "       [1, 1, 1, 1, 1, 1, 1, 1, 0, 1, 1, 1, 0, 0, 1, 1, 0, 0, 0, 1],\n",
       "       [1, 1, 1, 1, 1, 1, 1, 1, 0, 1, 1, 1, 0, 0, 1, 1, 1, 0, 0, 1],\n",
       "       [1, 1, 1, 1, 1, 1, 1, 1, 0, 1, 1, 1, 0, 0, 1, 1, 1, 1, 0, 1],\n",
       "       [0, 0, 0, 0, 1, 1, 0, 0, 0, 1, 1, 1, 0, 0, 0, 0, 0, 0, 0, 0]])"
      ]
     },
     "execution_count": 278,
     "metadata": {},
     "output_type": "execute_result"
    }
   ],
   "source": [
    "majority_mtrx = majority(sigma_vect)\n",
    "majority_mtrx"
   ]
  },
  {
   "cell_type": "code",
   "execution_count": 283,
   "metadata": {},
   "outputs": [
    {
     "name": "stdout",
     "output_type": "stream",
     "text": [
      "МАЖОРИТАРНЕ ВІДНОШЕННЯ\n",
      "____________________________________\n",
      "Множини альтернатив    Оптимальний розв'язок\n",
      "---------------------  -----------------------\n",
      "l_p                    [14]\n"
     ]
    }
   ],
   "source": [
    "print(\"МАЖОРИТАРНЕ ВІДНОШЕННЯ\\n____________________________________\")\n",
    "optimization(majority_mtrx)"
   ]
  },
  {
   "cell_type": "markdown",
   "metadata": {},
   "source": [
    "#### Відношення лексикографії"
   ]
  },
  {
   "cell_type": "code",
   "execution_count": null,
   "metadata": {},
   "outputs": [],
   "source": []
  }
 ],
 "metadata": {
  "kernelspec": {
   "display_name": "Python 3",
   "language": "python",
   "name": "python3"
  },
  "language_info": {
   "codemirror_mode": {
    "name": "ipython",
    "version": 3
   },
   "file_extension": ".py",
   "mimetype": "text/x-python",
   "name": "python",
   "nbconvert_exporter": "python",
   "pygments_lexer": "ipython3",
   "version": "3.7.6"
  }
 },
 "nbformat": 4,
 "nbformat_minor": 4
}
