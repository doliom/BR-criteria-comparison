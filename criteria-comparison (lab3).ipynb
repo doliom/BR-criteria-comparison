{
 "cells": [
  {
   "cell_type": "code",
   "execution_count": 1,
   "metadata": {},
   "outputs": [],
   "source": [
    "import numpy as np\n",
    "from tabulate import tabulate"
   ]
  },
  {
   "cell_type": "code",
   "execution_count": 2,
   "metadata": {},
   "outputs": [
    {
     "data": {
      "text/plain": [
       "array([[10,  3, 10, 10,  4,  3,  4,  1,  8,  3,  8,  4],\n",
       "       [ 8,  3,  8,  7,  2,  3,  4,  1,  8,  3,  8,  4],\n",
       "       [10,  8, 10, 10,  4,  9,  4,  3,  8,  4,  8,  7],\n",
       "       [10,  8, 10, 10,  5,  9,  8,  4,  8,  5,  8,  7],\n",
       "       [ 5,  3,  4,  6,  2,  3,  4,  1,  1,  3,  1,  4],\n",
       "       [ 3,  2,  4,  5,  2,  3,  4,  1,  1,  2,  1,  4],\n",
       "       [10,  8, 10, 10,  7,  9,  4,  8,  8,  5,  8,  7],\n",
       "       [10,  8, 10, 10,  7,  9,  4,  8,  8,  7,  8,  7],\n",
       "       [10,  8, 10, 10,  7,  9,  9,  8, 10, 10,  8,  7],\n",
       "       [ 1,  4,  2,  5,  7,  8,  9,  8,  1,  1,  2,  7],\n",
       "       [ 1,  2,  2,  5,  2,  3,  4,  1,  1,  1,  1,  4],\n",
       "       [ 1,  2,  2,  1,  2,  3,  4,  1,  1,  1,  1,  4],\n",
       "       [10,  8, 10, 10,  7,  9,  9,  8, 10, 10,  8, 10],\n",
       "       [10,  9, 10, 10,  7,  9,  9,  8, 10, 10,  8, 10],\n",
       "       [ 2,  7, 10,  1,  7,  1,  4,  8,  5,  7,  6,  7],\n",
       "       [ 2,  7, 10,  1,  7,  3,  4,  8,  5,  9,  6,  8],\n",
       "       [10,  9, 10, 10, 10,  4,  4,  8,  8,  9,  8,  8],\n",
       "       [10,  9, 10, 10, 10,  4,  9,  8,  8,  9,  8,  8],\n",
       "       [10, 10, 10, 10, 10,  4,  9,  8,  8,  9,  8,  9],\n",
       "       [ 7, 10,  6,  2,  5,  4,  2,  8,  6,  4,  4,  1]])"
      ]
     },
     "execution_count": 2,
     "metadata": {},
     "output_type": "execute_result"
    }
   ],
   "source": [
    "criteria = np.loadtxt('task_matrix.txt', delimiter=' ', dtype=int)\n",
    "criteria"
   ]
  },
  {
   "cell_type": "markdown",
   "metadata": {},
   "source": [
    "#### Формуємо множину веторів сигма."
   ]
  },
  {
   "cell_type": "code",
   "execution_count": 3,
   "metadata": {},
   "outputs": [],
   "source": [
    "def make_delta_vector(criteria, index_row): #утворення множини векторів дельта, щоб потім використати для знаходження сигм\n",
    "    deltas = []\n",
    "    for i in range(criteria.shape[0]):\n",
    "        deltas.append(criteria[index_row]-criteria[i])\n",
    "    deltas = np.array(deltas)\n",
    "    return deltas\n",
    "    \n",
    "def sigma_vectors(criteria):\n",
    "    sigma_vect = []\n",
    "    \n",
    "    for i in range(criteria.shape[0]):\n",
    "        delta = make_delta_vector(criteria, i)\n",
    "        \n",
    "        delta_positive = np.where(delta > 0, 1, 0)\n",
    "        delta_negative = np.where(delta < 0, -1, 0)\n",
    "\n",
    "        sigma = delta_positive+delta_negative\n",
    "        sigma_vect.append(sigma)\n",
    "        \n",
    "    sigma_vect = np.array(sigma_vect)\n",
    "    return sigma_vect"
   ]
  },
  {
   "cell_type": "code",
   "execution_count": 4,
   "metadata": {
    "scrolled": true
   },
   "outputs": [
    {
     "data": {
      "text/plain": [
       "array([[[ 0,  0,  0, ...,  0,  0,  0],\n",
       "        [ 1,  0,  1, ...,  0,  0,  0],\n",
       "        [ 0, -1,  0, ..., -1,  0, -1],\n",
       "        ...,\n",
       "        [ 0, -1,  0, ..., -1,  0, -1],\n",
       "        [ 0, -1,  0, ..., -1,  0, -1],\n",
       "        [ 1, -1,  1, ..., -1,  1,  1]],\n",
       "\n",
       "       [[-1,  0, -1, ...,  0,  0,  0],\n",
       "        [ 0,  0,  0, ...,  0,  0,  0],\n",
       "        [-1, -1, -1, ..., -1,  0, -1],\n",
       "        ...,\n",
       "        [-1, -1, -1, ..., -1,  0, -1],\n",
       "        [-1, -1, -1, ..., -1,  0, -1],\n",
       "        [ 1, -1,  1, ..., -1,  1,  1]],\n",
       "\n",
       "       [[ 0,  1,  0, ...,  1,  0,  1],\n",
       "        [ 1,  1,  1, ...,  1,  0,  1],\n",
       "        [ 0,  0,  0, ...,  0,  0,  0],\n",
       "        ...,\n",
       "        [ 0, -1,  0, ..., -1,  0, -1],\n",
       "        [ 0, -1,  0, ..., -1,  0, -1],\n",
       "        [ 1, -1,  1, ...,  0,  1,  1]],\n",
       "\n",
       "       ...,\n",
       "\n",
       "       [[ 0,  1,  0, ...,  1,  0,  1],\n",
       "        [ 1,  1,  1, ...,  1,  0,  1],\n",
       "        [ 0,  1,  0, ...,  1,  0,  1],\n",
       "        ...,\n",
       "        [ 0,  0,  0, ...,  0,  0,  0],\n",
       "        [ 0, -1,  0, ...,  0,  0, -1],\n",
       "        [ 1, -1,  1, ...,  1,  1,  1]],\n",
       "\n",
       "       [[ 0,  1,  0, ...,  1,  0,  1],\n",
       "        [ 1,  1,  1, ...,  1,  0,  1],\n",
       "        [ 0,  1,  0, ...,  1,  0,  1],\n",
       "        ...,\n",
       "        [ 0,  1,  0, ...,  0,  0,  1],\n",
       "        [ 0,  0,  0, ...,  0,  0,  0],\n",
       "        [ 1,  0,  1, ...,  1,  1,  1]],\n",
       "\n",
       "       [[-1,  1, -1, ...,  1, -1, -1],\n",
       "        [-1,  1, -1, ...,  1, -1, -1],\n",
       "        [-1,  1, -1, ...,  0, -1, -1],\n",
       "        ...,\n",
       "        [-1,  1, -1, ..., -1, -1, -1],\n",
       "        [-1,  0, -1, ..., -1, -1, -1],\n",
       "        [ 0,  0,  0, ...,  0,  0,  0]]])"
      ]
     },
     "execution_count": 4,
     "metadata": {},
     "output_type": "execute_result"
    }
   ],
   "source": [
    "sigma_vect = sigma_vectors(criteria)\n",
    "sigma_vect"
   ]
  },
  {
   "cell_type": "markdown",
   "metadata": {},
   "source": [
    "#### Реалізація функцій для для оптимізації за домінуванням і блокуванням"
   ]
  },
  {
   "cell_type": "code",
   "execution_count": 5,
   "metadata": {},
   "outputs": [],
   "source": [
    "def I(R): #формуємо симетричну частину\n",
    "    return (R == R.T)*R\n",
    "\n",
    "def P(R):#формуємо асиметричну частину\n",
    "    return R-I(R)\n",
    "\n",
    "def N(R):#формуємо відношення непорівнюваності\n",
    "    return (R == R.T)-I(R)\n",
    "\n",
    "def check_asymmetry(R):#перевірка на асиметричність. True - якщо асиметричне\n",
    "    return not I(R).any()\n",
    "\n",
    "#Оптимізація за домінуванням\n",
    "def dom_opt(R, m):\n",
    "    opt_res = {\n",
    "        'l_p': [],\n",
    "        'l_r': [],\n",
    "        'strong_l_r': []}\n",
    "    \n",
    "    if check_asymmetry(R):\n",
    "        opt_res['l_p'] = largest_p(R, m)\n",
    "    else:\n",
    "        opt_res['l_r'], opt_res['strong_l_r'] = largest_r(R, m)\n",
    "    return opt_res\n",
    "\n",
    "def largest_p(R, m):#найбільші по P\n",
    "    for row, i in zip(R, range(m)):\n",
    "        if row.sum()==m-1 and row[i]==0:\n",
    "            return [i+1] #бо одночасно 2 таких елементи існувати не може\n",
    "    return []\n",
    "\n",
    "def largest_r(R, m):#найбільші та строго найбільші по R \n",
    "    lr, strong_lr = [], []\n",
    "    for row, i in zip(R, range(m)):\n",
    "        if row.sum()==m:\n",
    "            lr.append(i+1)\n",
    "            if R.T[i].sum()==1:\n",
    "                strong_lr.append(i+1)\n",
    "    return lr, strong_lr\n",
    "            \n",
    "#Оптимізація за блокуванням\n",
    "def block_opt(R, m):\n",
    "    opt_res = {\n",
    "        'm_p': [],\n",
    "        'm_r': [],\n",
    "        'strong_m_r': []}\n",
    "        \n",
    "    if check_asymmetry(R):\n",
    "        opt_res['m_p'] = max_p(R, m)\n",
    "    else:\n",
    "        opt_res['m_r'], opt_res['strong_m_r'] = max_r(R, m)\n",
    "    return opt_res\n",
    "\n",
    "def max_p(R, m):#максимальні по P\n",
    "    mp = []\n",
    "    for row, i in zip(R.T, range(m)):\n",
    "        if not row.any():\n",
    "            mp.append(i+1)\n",
    "    return mp\n",
    "\n",
    "def max_r(R, m):#максимальні та строго максимальні по R\n",
    "    mr, strong_mr = [], []\n",
    "    for row, i in zip(P(R).T, range(m)):\n",
    "        if not row.any():\n",
    "            mr.append(i+1)\n",
    "            if R.T[i].sum()==0 or (R.T[i].sum()==1 and R.T[i][i] == 1):\n",
    "                strong_mr.append(i+1)\n",
    "    return mr, strong_mr\n",
    "\n",
    "def optimization(R):\n",
    "    m = R.shape[0]\n",
    "    headers = [\"Множини альтернатив\",\"Оптимальний розв'язок\"]\n",
    "    \n",
    "    solution = dom_opt(R, m)\n",
    "    if len(solution['l_p']) or len(solution['l_r']) or len(solution['strong_l_r']):\n",
    "        if len(solution['l_p']) == 0:\n",
    "            del solution['l_p']\n",
    "        else:\n",
    "            del solution['l_r']\n",
    "            del solution['strong_l_r']\n",
    "        print(tabulate(solution.items(), headers = headers))\n",
    "    else:\n",
    "        solution = block_opt(R, m)\n",
    "        if len(solution['m_p']) == 0:\n",
    "            del solution['m_p']\n",
    "        else:\n",
    "            del solution['m_r']\n",
    "            del solution['strong_m_r']\n",
    "        print(tabulate(solution.items(), headers = headers))"
   ]
  },
  {
   "cell_type": "markdown",
   "metadata": {},
   "source": [
    "#### Відношення Парето"
   ]
  },
  {
   "cell_type": "code",
   "execution_count": 6,
   "metadata": {},
   "outputs": [],
   "source": [
    "def pareto(sigma_vect):\n",
    "    m = sigma_vect.shape[0] #кількість x\n",
    "    solution = np.zeros((m, m), dtype=int)\n",
    "    \n",
    "    for row in range(m):\n",
    "        for col in range(m):\n",
    "            if (sigma_vect[row][col] >= 0).all():\n",
    "                solution[row][col] = 1\n",
    "    \n",
    "    return solution"
   ]
  },
  {
   "cell_type": "code",
   "execution_count": 7,
   "metadata": {
    "scrolled": true
   },
   "outputs": [
    {
     "name": "stdout",
     "output_type": "stream",
     "text": [
      "Відношення Парето\n"
     ]
    },
    {
     "data": {
      "text/plain": [
       "array([[1, 1, 0, 0, 1, 1, 0, 0, 0, 0, 1, 1, 0, 0, 0, 0, 0, 0, 0, 0],\n",
       "       [0, 1, 0, 0, 1, 1, 0, 0, 0, 0, 1, 1, 0, 0, 0, 0, 0, 0, 0, 0],\n",
       "       [1, 1, 1, 0, 1, 1, 0, 0, 0, 0, 1, 1, 0, 0, 0, 0, 0, 0, 0, 0],\n",
       "       [1, 1, 1, 1, 1, 1, 0, 0, 0, 0, 1, 1, 0, 0, 0, 0, 0, 0, 0, 0],\n",
       "       [0, 0, 0, 0, 1, 1, 0, 0, 0, 0, 1, 1, 0, 0, 0, 0, 0, 0, 0, 0],\n",
       "       [0, 0, 0, 0, 0, 1, 0, 0, 0, 0, 1, 1, 0, 0, 0, 0, 0, 0, 0, 0],\n",
       "       [1, 1, 1, 0, 1, 1, 1, 0, 0, 0, 1, 1, 0, 0, 0, 0, 0, 0, 0, 0],\n",
       "       [1, 1, 1, 0, 1, 1, 1, 1, 0, 0, 1, 1, 0, 0, 1, 0, 0, 0, 0, 0],\n",
       "       [1, 1, 1, 1, 1, 1, 1, 1, 1, 1, 1, 1, 0, 0, 1, 0, 0, 0, 0, 0],\n",
       "       [0, 0, 0, 0, 0, 0, 0, 0, 0, 1, 1, 1, 0, 0, 0, 0, 0, 0, 0, 0],\n",
       "       [0, 0, 0, 0, 0, 0, 0, 0, 0, 0, 1, 1, 0, 0, 0, 0, 0, 0, 0, 0],\n",
       "       [0, 0, 0, 0, 0, 0, 0, 0, 0, 0, 0, 1, 0, 0, 0, 0, 0, 0, 0, 0],\n",
       "       [1, 1, 1, 1, 1, 1, 1, 1, 1, 1, 1, 1, 1, 0, 1, 1, 0, 0, 0, 0],\n",
       "       [1, 1, 1, 1, 1, 1, 1, 1, 1, 1, 1, 1, 1, 1, 1, 1, 0, 0, 0, 0],\n",
       "       [0, 0, 0, 0, 0, 0, 0, 0, 0, 0, 0, 0, 0, 0, 1, 0, 0, 0, 0, 0],\n",
       "       [0, 0, 0, 0, 0, 0, 0, 0, 0, 0, 0, 1, 0, 0, 1, 1, 0, 0, 0, 0],\n",
       "       [1, 1, 0, 0, 1, 1, 0, 0, 0, 0, 1, 1, 0, 0, 1, 1, 1, 0, 0, 0],\n",
       "       [1, 1, 0, 0, 1, 1, 0, 0, 0, 0, 1, 1, 0, 0, 1, 1, 1, 1, 0, 0],\n",
       "       [1, 1, 0, 0, 1, 1, 0, 0, 0, 0, 1, 1, 0, 0, 1, 1, 1, 1, 1, 1],\n",
       "       [0, 0, 0, 0, 0, 0, 0, 0, 0, 0, 0, 0, 0, 0, 0, 0, 0, 0, 0, 1]])"
      ]
     },
     "execution_count": 7,
     "metadata": {},
     "output_type": "execute_result"
    }
   ],
   "source": [
    "pareto_mtrx = pareto(sigma_vect)\n",
    "print(\"Відношення Парето\")\n",
    "pareto_mtrx"
   ]
  },
  {
   "cell_type": "code",
   "execution_count": 8,
   "metadata": {
    "scrolled": true
   },
   "outputs": [
    {
     "name": "stdout",
     "output_type": "stream",
     "text": [
      "ВІДНОШЕННЯ ПАРЕТО\n",
      "____________________________________\n",
      "Множини альтернатив    Оптимальний розв'язок\n",
      "---------------------  -----------------------\n",
      "m_r                    [14, 19]\n",
      "strong_m_r             [14, 19]\n"
     ]
    }
   ],
   "source": [
    "print(\"ВІДНОШЕННЯ ПАРЕТО\\n____________________________________\")\n",
    "optimization(pareto_mtrx)"
   ]
  },
  {
   "cell_type": "markdown",
   "metadata": {},
   "source": [
    "#### Мажоритарне відношення"
   ]
  },
  {
   "cell_type": "code",
   "execution_count": 9,
   "metadata": {},
   "outputs": [],
   "source": [
    "def majority(sigma_vect):\n",
    "    m = sigma_vect.shape[0] #кількість x\n",
    "    sigma_sum = np.array([[sigma_vect[i][j].sum() for j in range(m)] for i in range(m)])\n",
    "    Pm = np.where(sigma_sum > 0, 1, 0)\n",
    "    return Pm"
   ]
  },
  {
   "cell_type": "code",
   "execution_count": 10,
   "metadata": {
    "scrolled": false
   },
   "outputs": [
    {
     "data": {
      "text/plain": [
       "array([[0, 1, 0, 0, 1, 1, 0, 0, 0, 0, 1, 1, 0, 0, 0, 0, 0, 0, 0, 1],\n",
       "       [0, 0, 0, 0, 1, 1, 0, 0, 0, 0, 1, 1, 0, 0, 0, 0, 0, 0, 0, 1],\n",
       "       [1, 1, 0, 0, 1, 1, 0, 0, 0, 1, 1, 1, 0, 0, 1, 1, 0, 0, 0, 1],\n",
       "       [1, 1, 1, 0, 1, 1, 0, 0, 0, 1, 1, 1, 0, 0, 1, 1, 0, 0, 0, 1],\n",
       "       [0, 0, 0, 0, 0, 1, 0, 0, 0, 0, 1, 1, 0, 0, 0, 0, 0, 0, 0, 0],\n",
       "       [0, 0, 0, 0, 0, 0, 0, 0, 0, 0, 1, 1, 0, 0, 0, 0, 0, 0, 0, 0],\n",
       "       [1, 1, 1, 1, 1, 1, 0, 0, 0, 1, 1, 1, 0, 0, 1, 1, 0, 0, 0, 1],\n",
       "       [1, 1, 1, 1, 1, 1, 1, 0, 0, 1, 1, 1, 0, 0, 1, 1, 0, 0, 0, 1],\n",
       "       [1, 1, 1, 1, 1, 1, 1, 1, 0, 1, 1, 1, 0, 0, 1, 1, 1, 0, 0, 1],\n",
       "       [0, 0, 0, 0, 1, 1, 0, 0, 0, 0, 1, 1, 0, 0, 0, 0, 0, 0, 0, 0],\n",
       "       [0, 0, 0, 0, 0, 0, 0, 0, 0, 0, 0, 1, 0, 0, 0, 0, 0, 0, 0, 0],\n",
       "       [0, 0, 0, 0, 0, 0, 0, 0, 0, 0, 0, 0, 0, 0, 0, 0, 0, 0, 0, 0],\n",
       "       [1, 1, 1, 1, 1, 1, 1, 1, 1, 1, 1, 1, 0, 0, 1, 1, 1, 1, 1, 1],\n",
       "       [1, 1, 1, 1, 1, 1, 1, 1, 1, 1, 1, 1, 1, 0, 1, 1, 1, 1, 1, 1],\n",
       "       [0, 1, 0, 0, 1, 1, 0, 0, 0, 1, 1, 1, 0, 0, 0, 0, 0, 0, 0, 1],\n",
       "       [1, 1, 0, 0, 1, 1, 0, 0, 0, 1, 1, 1, 0, 0, 1, 0, 0, 0, 0, 1],\n",
       "       [1, 1, 1, 1, 1, 1, 1, 1, 0, 1, 1, 1, 0, 0, 1, 1, 0, 0, 0, 1],\n",
       "       [1, 1, 1, 1, 1, 1, 1, 1, 0, 1, 1, 1, 0, 0, 1, 1, 1, 0, 0, 1],\n",
       "       [1, 1, 1, 1, 1, 1, 1, 1, 0, 1, 1, 1, 0, 0, 1, 1, 1, 1, 0, 1],\n",
       "       [0, 0, 0, 0, 1, 1, 0, 0, 0, 1, 1, 1, 0, 0, 0, 0, 0, 0, 0, 0]])"
      ]
     },
     "execution_count": 10,
     "metadata": {},
     "output_type": "execute_result"
    }
   ],
   "source": [
    "majority_mtrx = majority(sigma_vect)\n",
    "majority_mtrx"
   ]
  },
  {
   "cell_type": "code",
   "execution_count": 11,
   "metadata": {},
   "outputs": [
    {
     "name": "stdout",
     "output_type": "stream",
     "text": [
      "МАЖОРИТАРНЕ ВІДНОШЕННЯ\n",
      "____________________________________\n",
      "Множини альтернатив    Оптимальний розв'язок\n",
      "---------------------  -----------------------\n",
      "l_p                    [14]\n"
     ]
    }
   ],
   "source": [
    "print(\"МАЖОРИТАРНЕ ВІДНОШЕННЯ\\n____________________________________\")\n",
    "optimization(majority_mtrx)"
   ]
  },
  {
   "cell_type": "markdown",
   "metadata": {},
   "source": [
    "#### Відношення лексикографії"
   ]
  },
  {
   "cell_type": "code",
   "execution_count": 12,
   "metadata": {},
   "outputs": [],
   "source": [
    "# Важливості критеріїв k4>k2>k10>k1>k3>k9>k12>k5>k11>k7>k6>k8\n",
    "def lexicographic(sigma_vect):\n",
    "    Pl=np.full(400, 2).reshape(20,20)\n",
    "    K = [3,1,9,0,2,8,11,4,10,6,5,7]\n",
    "    \n",
    "    for k in K:\n",
    "        for row, i_row in zip(sigma_vect, range(sigma_vect.shape[0])):\n",
    "            for col, i_col in zip(row, range(sigma_vect.shape[1])):\n",
    "                if Pl[i_row][i_col] == 2:\n",
    "                    if col[k]==1:\n",
    "                        Pl[i_row][i_col]=1\n",
    "                    elif col[k]== -1:\n",
    "                        Pl[i_row][i_col]=0\n",
    "    Pl = np.where(Pl==2, 0, Pl)\n",
    "    return Pl"
   ]
  },
  {
   "cell_type": "code",
   "execution_count": 13,
   "metadata": {},
   "outputs": [
    {
     "data": {
      "text/plain": [
       "array([[0, 1, 0, 0, 1, 1, 0, 0, 0, 1, 1, 1, 0, 0, 1, 1, 0, 0, 0, 1],\n",
       "       [0, 0, 0, 0, 1, 1, 0, 0, 0, 1, 1, 1, 0, 0, 1, 1, 0, 0, 0, 1],\n",
       "       [1, 1, 0, 0, 1, 1, 0, 0, 0, 1, 1, 1, 0, 0, 1, 1, 0, 0, 0, 1],\n",
       "       [1, 1, 1, 0, 1, 1, 0, 0, 0, 1, 1, 1, 0, 0, 1, 1, 0, 0, 0, 1],\n",
       "       [0, 0, 0, 0, 0, 1, 0, 0, 0, 1, 1, 1, 0, 0, 1, 1, 0, 0, 0, 1],\n",
       "       [0, 0, 0, 0, 0, 0, 0, 0, 0, 0, 1, 1, 0, 0, 1, 1, 0, 0, 0, 1],\n",
       "       [1, 1, 1, 1, 1, 1, 0, 0, 0, 1, 1, 1, 0, 0, 1, 1, 0, 0, 0, 1],\n",
       "       [1, 1, 1, 1, 1, 1, 1, 0, 0, 1, 1, 1, 0, 0, 1, 1, 0, 0, 0, 1],\n",
       "       [1, 1, 1, 1, 1, 1, 1, 1, 0, 1, 1, 1, 0, 0, 1, 1, 0, 0, 0, 1],\n",
       "       [0, 0, 0, 0, 0, 1, 0, 0, 0, 0, 1, 1, 0, 0, 1, 1, 0, 0, 0, 1],\n",
       "       [0, 0, 0, 0, 0, 0, 0, 0, 0, 0, 0, 1, 0, 0, 1, 1, 0, 0, 0, 1],\n",
       "       [0, 0, 0, 0, 0, 0, 0, 0, 0, 0, 0, 0, 0, 0, 0, 0, 0, 0, 0, 0],\n",
       "       [1, 1, 1, 1, 1, 1, 1, 1, 1, 1, 1, 1, 0, 0, 1, 1, 0, 0, 0, 1],\n",
       "       [1, 1, 1, 1, 1, 1, 1, 1, 1, 1, 1, 1, 1, 0, 1, 1, 1, 1, 0, 1],\n",
       "       [0, 0, 0, 0, 0, 0, 0, 0, 0, 0, 0, 1, 0, 0, 0, 0, 0, 0, 0, 0],\n",
       "       [0, 0, 0, 0, 0, 0, 0, 0, 0, 0, 0, 1, 0, 0, 1, 0, 0, 0, 0, 0],\n",
       "       [1, 1, 1, 1, 1, 1, 1, 1, 1, 1, 1, 1, 1, 0, 1, 1, 0, 0, 0, 1],\n",
       "       [1, 1, 1, 1, 1, 1, 1, 1, 1, 1, 1, 1, 1, 0, 1, 1, 1, 0, 0, 1],\n",
       "       [1, 1, 1, 1, 1, 1, 1, 1, 1, 1, 1, 1, 1, 1, 1, 1, 1, 1, 0, 1],\n",
       "       [0, 0, 0, 0, 0, 0, 0, 0, 0, 0, 0, 1, 0, 0, 1, 1, 0, 0, 0, 0]])"
      ]
     },
     "execution_count": 13,
     "metadata": {},
     "output_type": "execute_result"
    }
   ],
   "source": [
    "lexicographic_mtrx = lexicographic(sigma_vect)\n",
    "lexicographic_mtrx"
   ]
  },
  {
   "cell_type": "code",
   "execution_count": 14,
   "metadata": {},
   "outputs": [
    {
     "name": "stdout",
     "output_type": "stream",
     "text": [
      "ВІДНОШЕННЯ ЛЕКСИКОГРАФІЇ\n",
      "____________________________________\n",
      "Множини альтернатив    Оптимальний розв'язок\n",
      "---------------------  -----------------------\n",
      "l_p                    [19]\n"
     ]
    }
   ],
   "source": [
    "print(\"ВІДНОШЕННЯ ЛЕКСИКОГРАФІЇ\\n____________________________________\")\n",
    "optimization(lexicographic_mtrx)"
   ]
  },
  {
   "cell_type": "markdown",
   "metadata": {},
   "source": [
    "#### Відношення Березовського"
   ]
  },
  {
   "cell_type": "code",
   "execution_count": 68,
   "metadata": {},
   "outputs": [],
   "source": [
    "# Відношення квазіпорядку на мн-ні критеріїв (класи впорядковані за зростанням важливості):\n",
    "#{k8,k9,k12} < {k1,k3,k10,k11} < {k2,k4,k5,k6,k7}\n",
    "\n",
    "def beresovskiy(criteria):\n",
    "    K1 = [7,8,11]\n",
    "    K2 = [0,2,9,10]\n",
    "    K3 = [1,3,4,5,6]\n",
    "    \n",
    "    Ib_2, Pb_2, Nb_2, solution = [[0]*20 for i in range(20)],[[0]*20 for i in range(20)],[[0]*20 for i in range(20)],[[0]*20 for i in range(20)]\n",
    "    \n",
    "    #формуємо матриці векторів сигм для кожного з класів\n",
    "    sigma_K1 = sigma_vectors(criteria[:, K1])\n",
    "    sigma_K2 = sigma_vectors(criteria[:, K2])\n",
    "    sigma_K3 = sigma_vectors(criteria[:, K3])\n",
    "    \n",
    "    #формуємо відношення Парето для кожного з класів\n",
    "    pareto_K1 = pareto(sigma_K1)\n",
    "    pareto_K2 = pareto(sigma_K2)\n",
    "    pareto_K3 = pareto(sigma_K3)\n",
    "    \n",
    "    #виділяємо симетричну частину для кожного з класів\n",
    "    I0_K1 = I(pareto_K1)\n",
    "    I0_K2 = I(pareto_K2)\n",
    "    I0_K3 = I(pareto_K3)\n",
    "    \n",
    "    #виділяємо асиметричну частину для кожного з класів\n",
    "    P0_K1 = P(pareto_K1)\n",
    "    P0_K2 = P(pareto_K2)\n",
    "    P0_K3 = P(pareto_K3)\n",
    "    \n",
    "    #виділяємо непорівнювану частину для кожного з класів\n",
    "    N0_K1 = N(pareto_K1)\n",
    "    N0_K2 = N(pareto_K2)\n",
    "    N0_K3 = N(pareto_K3)\n",
    "    \n",
    "    #1 ітерація\n",
    "    Pb_1 = P0_K1\n",
    "    Ib_1 = I0_K1\n",
    "    Nb_1 = N0_K1\n",
    "    \n",
    "    #2 ітерація\n",
    "    #Pb2\n",
    "    Pb_2_1 = (P0_K2==P0_K1)*P0_K2\n",
    "    Pb_2_2 = (P0_K2==I0_K1)*P0_K2\n",
    "    Pb_2_3 = (P0_K2==N0_K1)*P0_K2\n",
    "    Pb_2_4 = (I0_K2==P0_K1)*I0_K1\n",
    "    Pb_2 = Pb_2_1+Pb_2_2+Pb_2_3+Pb_2_4\n",
    "    Pb_2 = np.where(Pb_2==0, 0, 1)\n",
    "\n",
    "    #Ib2\n",
    "    Ib_2 = (I0_K2==I0_K1)*I0_K2\n",
    "    \n",
    "    #Nb2\n",
    "    Nb_2 = N(Pb_2+Ib_2)\n",
    "    \n",
    "    # 3 ітерація\n",
    "    Pb_3_1 = (P0_K3==Pb_2)*Pb_2\n",
    "    Pb_3_2 = (P0_K3==Ib_2)*Ib_2\n",
    "    Pb_3_3 = (P0_K3==Nb_2)*Nb_2\n",
    "    Pb_3_4 = (I0_K3==Pb_2)*Pb_2\n",
    "    Pb_3 = Pb_3_1+Pb_3_2+Pb_3_3+Pb_3_4\n",
    "    Pb_3 = np.where(Pb_3==0, 0, 1)\n",
    "    \n",
    "    return Pb_3"
   ]
  },
  {
   "cell_type": "code",
   "execution_count": 69,
   "metadata": {},
   "outputs": [
    {
     "data": {
      "text/plain": [
       "array([[0, 1, 0, 0, 1, 1, 0, 0, 0, 0, 1, 1, 0, 0, 0, 0, 0, 0, 0, 0],\n",
       "       [0, 0, 0, 0, 1, 1, 0, 0, 0, 0, 1, 1, 0, 0, 0, 0, 0, 0, 0, 0],\n",
       "       [1, 1, 0, 0, 1, 1, 0, 0, 0, 0, 1, 1, 0, 0, 0, 0, 0, 0, 0, 0],\n",
       "       [1, 1, 1, 0, 1, 1, 0, 0, 0, 0, 1, 1, 0, 0, 0, 0, 0, 0, 0, 0],\n",
       "       [0, 0, 0, 0, 0, 1, 0, 0, 0, 0, 1, 1, 0, 0, 0, 0, 0, 0, 0, 0],\n",
       "       [0, 0, 0, 0, 0, 0, 0, 0, 0, 0, 1, 1, 0, 0, 0, 0, 0, 0, 0, 0],\n",
       "       [1, 1, 1, 0, 1, 1, 0, 0, 0, 0, 1, 1, 0, 0, 0, 0, 0, 0, 0, 0],\n",
       "       [1, 1, 1, 0, 1, 1, 1, 0, 0, 0, 1, 1, 0, 0, 1, 0, 0, 0, 0, 0],\n",
       "       [1, 1, 1, 1, 1, 1, 1, 1, 0, 1, 1, 1, 0, 0, 1, 0, 0, 0, 0, 0],\n",
       "       [0, 0, 0, 0, 0, 0, 0, 0, 0, 0, 1, 1, 0, 0, 0, 0, 0, 0, 0, 0],\n",
       "       [0, 0, 0, 0, 0, 0, 0, 0, 0, 0, 0, 1, 0, 0, 0, 0, 0, 0, 0, 0],\n",
       "       [0, 0, 0, 0, 0, 0, 0, 0, 0, 0, 0, 0, 0, 0, 0, 0, 0, 0, 0, 0],\n",
       "       [1, 1, 1, 1, 1, 1, 1, 1, 1, 1, 1, 1, 0, 0, 1, 1, 0, 0, 0, 0],\n",
       "       [1, 1, 1, 1, 1, 1, 1, 1, 1, 1, 1, 1, 1, 0, 1, 1, 0, 0, 0, 1],\n",
       "       [0, 0, 0, 0, 0, 0, 0, 0, 0, 0, 0, 0, 0, 0, 0, 0, 0, 0, 0, 0],\n",
       "       [0, 0, 0, 0, 0, 0, 0, 0, 0, 0, 0, 1, 0, 0, 1, 0, 0, 0, 0, 0],\n",
       "       [1, 1, 0, 0, 1, 1, 0, 0, 0, 0, 1, 1, 0, 0, 1, 1, 0, 0, 0, 1],\n",
       "       [1, 1, 0, 0, 1, 1, 0, 0, 0, 1, 1, 1, 0, 0, 1, 1, 1, 0, 0, 1],\n",
       "       [1, 1, 0, 0, 1, 1, 0, 0, 0, 1, 1, 1, 0, 0, 1, 1, 1, 0, 0, 1],\n",
       "       [0, 0, 0, 0, 0, 0, 0, 0, 0, 0, 0, 0, 0, 0, 0, 0, 0, 0, 0, 0]])"
      ]
     },
     "execution_count": 69,
     "metadata": {},
     "output_type": "execute_result"
    }
   ],
   "source": [
    "beresovskiy_mtrx = beresovskiy(sigma_vect)\n",
    "beresovskiy_mtrx"
   ]
  },
  {
   "cell_type": "code",
   "execution_count": 70,
   "metadata": {},
   "outputs": [
    {
     "name": "stdout",
     "output_type": "stream",
     "text": [
      "ВІДНОШЕННЯ БЕРЕЗОВСЬКОГО\n",
      "____________________________________\n",
      "Множини альтернатив    Оптимальний розв'язок\n",
      "---------------------  -----------------------\n",
      "m_p                    [14, 18, 19]\n"
     ]
    }
   ],
   "source": [
    "print(\"ВІДНОШЕННЯ БЕРЕЗОВСЬКОГО\\n____________________________________\")\n",
    "optimization(beresovskiy_mtrx)"
   ]
  },
  {
   "cell_type": "markdown",
   "metadata": {},
   "source": [
    "#### Відношення Подиновського"
   ]
  },
  {
   "cell_type": "code",
   "execution_count": 71,
   "metadata": {},
   "outputs": [],
   "source": [
    "def sort_criteria(criteria):\n",
    "    sort_crit = np.array(criteria)\n",
    "    for row, i in zip(sort_crit, range(criteria.shape[0])):\n",
    "        row[::-1].sort()\n",
    "        sort_crit[i] = row\n",
    "    return sort_crit\n",
    "\n",
    "def podynovskiy(criteria):\n",
    "    sort_crit = sort_criteria(criteria)\n",
    "    sigma_vect = sigma_vectors(sort_crit)\n",
    "    pareto_mtrx = pareto(sigma_vect)\n",
    "    return pareto_mtrx"
   ]
  },
  {
   "cell_type": "code",
   "execution_count": 72,
   "metadata": {},
   "outputs": [
    {
     "data": {
      "text/plain": [
       "array([[1, 1, 0, 0, 1, 1, 0, 0, 0, 0, 1, 1, 0, 0, 0, 0, 0, 0, 0, 0],\n",
       "       [0, 1, 0, 0, 1, 1, 0, 0, 0, 0, 1, 1, 0, 0, 0, 0, 0, 0, 0, 0],\n",
       "       [1, 1, 1, 0, 1, 1, 0, 0, 0, 1, 1, 1, 0, 0, 1, 1, 0, 0, 0, 1],\n",
       "       [1, 1, 1, 1, 1, 1, 0, 0, 0, 1, 1, 1, 0, 0, 1, 1, 0, 0, 0, 1],\n",
       "       [0, 0, 0, 0, 1, 1, 0, 0, 0, 0, 1, 1, 0, 0, 0, 0, 0, 0, 0, 0],\n",
       "       [0, 0, 0, 0, 0, 1, 0, 0, 0, 0, 1, 1, 0, 0, 0, 0, 0, 0, 0, 0],\n",
       "       [1, 1, 1, 1, 1, 1, 1, 0, 0, 1, 1, 1, 0, 0, 1, 1, 0, 0, 0, 1],\n",
       "       [1, 1, 1, 1, 1, 1, 1, 1, 0, 1, 1, 1, 0, 0, 1, 1, 0, 0, 0, 1],\n",
       "       [1, 1, 1, 1, 1, 1, 1, 1, 1, 1, 1, 1, 0, 0, 1, 1, 1, 0, 0, 1],\n",
       "       [0, 0, 0, 0, 0, 1, 0, 0, 0, 1, 1, 1, 0, 0, 0, 0, 0, 0, 0, 0],\n",
       "       [0, 0, 0, 0, 0, 0, 0, 0, 0, 0, 1, 1, 0, 0, 0, 0, 0, 0, 0, 0],\n",
       "       [0, 0, 0, 0, 0, 0, 0, 0, 0, 0, 0, 1, 0, 0, 0, 0, 0, 0, 0, 0],\n",
       "       [1, 1, 1, 1, 1, 1, 1, 1, 1, 1, 1, 1, 1, 0, 1, 1, 1, 1, 1, 1],\n",
       "       [1, 1, 1, 1, 1, 1, 1, 1, 1, 1, 1, 1, 1, 1, 1, 1, 1, 1, 1, 1],\n",
       "       [0, 0, 0, 0, 1, 1, 0, 0, 0, 0, 1, 1, 0, 0, 1, 0, 0, 0, 0, 0],\n",
       "       [0, 1, 0, 0, 1, 1, 0, 0, 0, 1, 1, 1, 0, 0, 1, 1, 0, 0, 0, 1],\n",
       "       [1, 1, 1, 0, 1, 1, 0, 0, 0, 1, 1, 1, 0, 0, 1, 1, 1, 0, 0, 1],\n",
       "       [1, 1, 1, 1, 1, 1, 1, 1, 0, 1, 1, 1, 0, 0, 1, 1, 1, 1, 0, 1],\n",
       "       [1, 1, 1, 1, 1, 1, 1, 1, 0, 1, 1, 1, 0, 0, 1, 1, 1, 1, 1, 1],\n",
       "       [0, 0, 0, 0, 1, 1, 0, 0, 0, 0, 1, 1, 0, 0, 0, 0, 0, 0, 0, 1]])"
      ]
     },
     "execution_count": 72,
     "metadata": {},
     "output_type": "execute_result"
    }
   ],
   "source": [
    "podynovskiy_mtrx = podynovskiy(criteria)\n",
    "podynovskiy_mtrx"
   ]
  },
  {
   "cell_type": "code",
   "execution_count": 73,
   "metadata": {},
   "outputs": [
    {
     "name": "stdout",
     "output_type": "stream",
     "text": [
      "ВІДНОШЕННЯ ПОДИНОВСЬКОГО\n",
      "____________________________________\n",
      "Множини альтернатив    Оптимальний розв'язок\n",
      "---------------------  -----------------------\n",
      "l_r                    [14]\n",
      "strong_l_r             [14]\n"
     ]
    }
   ],
   "source": [
    "print(\"ВІДНОШЕННЯ ПОДИНОВСЬКОГО\\n____________________________________\")\n",
    "optimization(podynovskiy_mtrx)"
   ]
  },
  {
   "cell_type": "markdown",
   "metadata": {},
   "source": [
    "#### Запис відношень у файл"
   ]
  },
  {
   "cell_type": "code",
   "execution_count": 74,
   "metadata": {},
   "outputs": [],
   "source": [
    "with open(\"Var09-МозольоваДарина.txt\", \"w\") as result:\n",
    "    for matrix, i in zip([pareto_mtrx, majority_mtrx, lexicographic_mtrx, beresovskiy_mtrx, podynovskiy_mtrx], list(range(1, 6))):\n",
    "        result.write(\" {} \\n\".format(i))\n",
    "        for row in range(20):\n",
    "            for col in range(20):\n",
    "                result.write(\" {} \".format(matrix[row][col]))\n",
    "            result.write(\"\\n\")"
   ]
  }
 ],
 "metadata": {
  "kernelspec": {
   "display_name": "Python 3",
   "language": "python",
   "name": "python3"
  },
  "language_info": {
   "codemirror_mode": {
    "name": "ipython",
    "version": 3
   },
   "file_extension": ".py",
   "mimetype": "text/x-python",
   "name": "python",
   "nbconvert_exporter": "python",
   "pygments_lexer": "ipython3",
   "version": "3.7.6"
  }
 },
 "nbformat": 4,
 "nbformat_minor": 4
}
